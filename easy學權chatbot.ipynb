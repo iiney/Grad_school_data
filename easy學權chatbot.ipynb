{
  "nbformat": 4,
  "nbformat_minor": 0,
  "metadata": {
    "colab": {
      "provenance": [],
      "include_colab_link": true
    },
    "kernelspec": {
      "name": "python3",
      "display_name": "Python 3"
    },
    "language_info": {
      "name": "python"
    }
  },
  "cells": [
    {
      "cell_type": "markdown",
      "metadata": {
        "id": "view-in-github",
        "colab_type": "text"
      },
      "source": [
        "<a href=\"https://colab.research.google.com/github/iiney/colabbb/blob/main/easy%E5%AD%B8%E6%AC%8Achatbot.ipynb\" target=\"_parent\"><img src=\"https://colab.research.google.com/assets/colab-badge.svg\" alt=\"Open In Colab\"/></a>"
      ]
    },
    {
      "cell_type": "code",
      "source": [
        "!pip install pandas openpyxl"
      ],
      "metadata": {
        "colab": {
          "base_uri": "https://localhost:8080/"
        },
        "id": "KSu3nvBhkx4z",
        "outputId": "7c6209e8-e220-457f-974a-8cb7cf1294a2"
      },
      "execution_count": null,
      "outputs": [
        {
          "output_type": "stream",
          "name": "stdout",
          "text": [
            "Requirement already satisfied: pandas in /usr/local/lib/python3.10/dist-packages (2.0.3)\n",
            "Requirement already satisfied: openpyxl in /usr/local/lib/python3.10/dist-packages (3.1.2)\n",
            "Requirement already satisfied: python-dateutil>=2.8.2 in /usr/local/lib/python3.10/dist-packages (from pandas) (2.8.2)\n",
            "Requirement already satisfied: pytz>=2020.1 in /usr/local/lib/python3.10/dist-packages (from pandas) (2023.4)\n",
            "Requirement already satisfied: tzdata>=2022.1 in /usr/local/lib/python3.10/dist-packages (from pandas) (2024.1)\n",
            "Requirement already satisfied: numpy>=1.21.0 in /usr/local/lib/python3.10/dist-packages (from pandas) (1.25.2)\n",
            "Requirement already satisfied: et-xmlfile in /usr/local/lib/python3.10/dist-packages (from openpyxl) (1.1.0)\n",
            "Requirement already satisfied: six>=1.5 in /usr/local/lib/python3.10/dist-packages (from python-dateutil>=2.8.2->pandas) (1.16.0)\n"
          ]
        }
      ]
    },
    {
      "cell_type": "code",
      "source": [
        "import google.generativeai as genai\n",
        "import os\n",
        "\n",
        "# 設API密鑰:看你們要不要弄一個自己的API 還是用我的 我都可以(但我有限制說只能用生成式AI\n",
        "api_key =\n",
        "url = f\"https://generativelanguage.googleapis.com/v1/models/gemini-pro:generateContent?key={api_key}\""
      ],
      "metadata": {
        "id": "tkGbXSYfk9qB"
      },
      "execution_count": null,
      "outputs": []
    },
    {
      "cell_type": "markdown",
      "source": [],
      "metadata": {
        "id": "LDE3cglW_jI3"
      }
    },
    {
      "cell_type": "code",
      "source": [
        "#檢查 api 是否 work!!要記得跑喔 有出現 \"1. Bebop\\n2. Big Band\\n3. Cool Jazz\\n4. Fusion\\n5. Smooth Jazz\" 之類的 = 成功\n",
        "\n",
        "import requests\n",
        "import json\n",
        "\n",
        "headers = {\n",
        "    'Content-Type': 'application/json',\n",
        "}\n",
        "\n",
        "data = {\n",
        "    \"contents\": [\n",
        "        {\n",
        "            \"role\": \"user\",\n",
        "            \"parts\": [\n",
        "                {\"text\": \"Give me five subcategories of jazz?\"}\n",
        "            ]\n",
        "        }\n",
        "    ]\n",
        "}\n",
        "\n",
        "# Make the API request\n",
        "response = requests.post(url, headers=headers, json=data)\n",
        "\n",
        "# Pretty-print the JSON response\n",
        "response_json = response.json()\n",
        "print(json.dumps(response_json, indent=4))\n"
      ],
      "metadata": {
        "colab": {
          "base_uri": "https://localhost:8080/"
        },
        "id": "1Xb4ExLtk8on",
        "outputId": "850aeead-7d9d-48d5-e997-12acf21690b8"
      },
      "execution_count": null,
      "outputs": [
        {
          "output_type": "stream",
          "name": "stdout",
          "text": [
            "{\n",
            "    \"candidates\": [\n",
            "        {\n",
            "            \"content\": {\n",
            "                \"parts\": [\n",
            "                    {\n",
            "                        \"text\": \"1. Bebop\\n2. Swing\\n3. Cool Jazz\\n4. Fusion\\n5. Avant-Garde\"\n",
            "                    }\n",
            "                ],\n",
            "                \"role\": \"model\"\n",
            "            },\n",
            "            \"finishReason\": \"STOP\",\n",
            "            \"index\": 0,\n",
            "            \"safetyRatings\": [\n",
            "                {\n",
            "                    \"category\": \"HARM_CATEGORY_SEXUALLY_EXPLICIT\",\n",
            "                    \"probability\": \"NEGLIGIBLE\"\n",
            "                },\n",
            "                {\n",
            "                    \"category\": \"HARM_CATEGORY_HATE_SPEECH\",\n",
            "                    \"probability\": \"NEGLIGIBLE\"\n",
            "                },\n",
            "                {\n",
            "                    \"category\": \"HARM_CATEGORY_HARASSMENT\",\n",
            "                    \"probability\": \"NEGLIGIBLE\"\n",
            "                },\n",
            "                {\n",
            "                    \"category\": \"HARM_CATEGORY_DANGEROUS_CONTENT\",\n",
            "                    \"probability\": \"NEGLIGIBLE\"\n",
            "                }\n",
            "            ]\n",
            "        }\n",
            "    ],\n",
            "    \"usageMetadata\": {\n",
            "        \"promptTokenCount\": 9,\n",
            "        \"candidatesTokenCount\": 24,\n",
            "        \"totalTokenCount\": 33\n",
            "    }\n",
            "}\n"
          ]
        }
      ]
    },
    {
      "cell_type": "code",
      "source": [
        "import re\n",
        "import nltk\n",
        "import requests\n",
        "\n",
        "# 初始化NLTK\n",
        "nltk.download('punkt')\n"
      ],
      "metadata": {
        "colab": {
          "base_uri": "https://localhost:8080/"
        },
        "id": "fYPrHj32oVPc",
        "outputId": "b3cc8b4a-be33-4bb4-c204-c8599d5e7a2d"
      },
      "execution_count": null,
      "outputs": [
        {
          "output_type": "stream",
          "name": "stderr",
          "text": [
            "[nltk_data] Downloading package punkt to /root/nltk_data...\n",
            "[nltk_data]   Unzipping tokenizers/punkt.zip.\n"
          ]
        },
        {
          "output_type": "execute_result",
          "data": {
            "text/plain": [
              "True"
            ]
          },
          "metadata": {},
          "execution_count": 3
        }
      ]
    },
    {
      "cell_type": "code",
      "source": [
        "#設定 gemini生成的東西!!!要記得跑喔\n",
        "\n",
        "def generate_gemini_content(prompt):\n",
        "\n",
        "    # Define the request data\n",
        "    data = {\n",
        "        \"contents\": [\n",
        "            {\n",
        "                \"role\": \"user\",\n",
        "                \"parts\": [\n",
        "                    {\"text\": prompt}\n",
        "                ]\n",
        "            }\n",
        "        ]\n",
        "    }\n",
        "\n",
        "    # Define the headers\n",
        "    headers = {\n",
        "        'Content-Type': 'application/json',\n",
        "    }\n",
        "\n",
        "    # Make the POST request\n",
        "    response = requests.post(url, headers=headers, json=data)\n",
        "\n",
        "    # Check if the request was successful\n",
        "    if response.status_code == 200:\n",
        "        # Extract the generated content from the response JSON\n",
        "        generated_content = response.json()['candidates'][0]['content']\n",
        "\n",
        "        # Extract and return the summary for each paragraph\n",
        "        return [generated_content]\n",
        "    else:\n",
        "        # If the request was not successful, print an error message and return None\n",
        "        print(\"Error:\", response.status_code, response.text)\n",
        "        return None"
      ],
      "metadata": {
        "id": "MTvX_cpWzp6y"
      },
      "execution_count": null,
      "outputs": []
    },
    {
      "cell_type": "code",
      "source": [
        "import pandas as pd\n",
        "from google.colab import files\n",
        "\n",
        "def simplify_question(original_question):\n",
        "    # Generate Gemini response\n",
        "    response = generate_gemini_content(\n",
        "        prompt=f\"請幫助簡化以下提問，使其更具體清晰，並只以問題回復，：{original_question}\")\n",
        "    # Extract the simplified question from the response\n",
        "    simplified_question = response[0]['parts'][0]['text'].strip()\n",
        "\n",
        "    return simplified_question\n",
        "\n",
        "def ask_student_confirmation(simplified_question):\n",
        "    print(f\"這是我們簡化後的問題：\\n\\n{simplified_question}\\n\\n這符合您的原意嗎？\")\n",
        "    return\n",
        "\n",
        "def simplify_question_2():\n",
        "    global previous_result\n",
        "    new_question = input(\"請重述您的問題以讓我們更了解:\")\n",
        "    # Generate Gemini response\n",
        "    response = generate_gemini_content(\n",
        "        prompt=f\"請幫助簡化以下提問，使其更具體清晰，並只以問題回復，：{new_question}\")\n",
        "\n",
        "    # Extract the simplified question from the response\n",
        "    simplifie_question_2 = response[0]['parts'][0]['text'].strip()\n",
        "    previous_result = simplifie_question_2\n",
        "    return simplifie_question_2\n",
        "\n",
        "def ask_student_confirmation_2(simplified_question_2):\n",
        "    print(f\"這是我們簡化後的問題：\\n\\n{simplified_question_2}\\n\\n這符合您的原意嗎？\")\n",
        "    return\n",
        "\n",
        "def reask_question():\n",
        "    simplified_question_2=simplify_question_2()\n",
        "    ask_student_confirmation_2(simplified_question_2)\n",
        "    return\n",
        "\n",
        "def check_info():\n",
        "  global final_question, student_id, class_name, name\n",
        "  print(f\"請問以下資訊是否正確? 系及班級: {class_name}, 學號: {student_id}, 姓名: {name}， 問題:{final_question}\")\n",
        "  return\n",
        "\n",
        "def save_to_excel(class_name, student_id, name, final_question, filename='student_info.xlsx'):\n",
        "    # Create a DataFrame with the data\n",
        "    data = {\n",
        "        '系及班級': [class_name],\n",
        "        '學號': [student_id],\n",
        "        '姓名': [name],\n",
        "        '問題': [final_question]\n",
        "    }\n",
        "    df = pd.DataFrame(data)\n",
        "\n",
        "    # Save the DataFrame to an Excel file\n",
        "    df.to_excel(filename, index=False, engine='openpyxl')\n",
        "    print(f\"資料已保存至 {filename}\")\n",
        "\n",
        "def main( ):\n",
        "\n",
        "  global previous_result, final_question, student_id, class_name, name\n",
        "\n",
        "  student_id = input(\"請輸入學號: \")\n",
        "  class_name = input(\"請輸入系及班級: \")\n",
        "  name = input(\"請輸入姓名: \")\n",
        "\n",
        "  original_question = input(\"請輸入您的問題：\")\n",
        "\n",
        "\n",
        "  simplified_question = simplify_question(original_question)\n",
        "  ask_student_confirmation(simplified_question)\n",
        "\n",
        "  continue_loop_1 = True\n",
        "  counter = 0\n",
        "  final_question = None\n",
        "\n",
        "  while continue_loop_1:\n",
        "      # Get user's response\n",
        "      answer_one = input(\"請回答[是]或[否]：\")\n",
        "\n",
        "      if answer_one == \"是\":\n",
        "        if counter == 0:\n",
        "          # Exit the loop if the response is \"是\"\n",
        "          final_question = simplified_question\n",
        "          continue_loop_1 = False\n",
        "\n",
        "        else:\n",
        "          final_question = previous_result\n",
        "          continue_loop_1 = False\n",
        "\n",
        "      elif answer_one == \"否\":\n",
        "          counter += 1\n",
        "\n",
        "          # If the counter reaches 5, print \"問題仍未能符合原意，請聯繫支持。\" and exit the loop\n",
        "          if counter == 5:\n",
        "              print(\"問題仍未能符合原意，請聯繫支持。\")\n",
        "              break\n",
        "          else:\n",
        "            simplified_question = reask_question()\n",
        "\n",
        "      else:\n",
        "          # If the response is neither \"是\" nor \"否\", print \"Invalid answer\" and prompt again\n",
        "          print(\"無效答案。請以 '是' 或 '否' 回覆\")\n",
        "\n",
        "  print(\"問題已確認。\")\n",
        "\n",
        "  continue_loop_2 = True\n",
        "\n",
        "  while continue_loop_2:\n",
        "    check_info()\n",
        "    answer_two = input(\"請回答[是]或[否]：\")\n",
        "\n",
        "    if answer_two == \"是\":\n",
        "      print(\"已成功保存並準備處理您的問題\")\n",
        "      continue_loop_2 = False\n",
        "    elif answer_two == \"否\":\n",
        "      print(\"資訊輸入錯誤，重新載入程式\")\n",
        "      main()\n",
        "      return\n",
        "\n",
        "    else:\n",
        "      print(\"無效答案。請以 '是' 或 '否' 回覆\")\n",
        "\n",
        "  filename = 'student_info.xlsx'\n",
        "  save_to_excel(class_name, student_id, name, final_question, filename)\n",
        "  files.download(filename)\n",
        "  print(\"資料已保存至 student_info.xlsx，檔案以下載\")\n",
        "\n",
        "  return\n",
        "\n",
        "if __name__ == \"__main__\":\n",
        "    main()\n"
      ],
      "metadata": {
        "colab": {
          "base_uri": "https://localhost:8080/",
          "height": 517
        },
        "id": "Bc6PWvbVG-Zy",
        "outputId": "faf10ce5-d779-4a70-ee5b-9a1eb1d2cc7a"
      },
      "execution_count": null,
      "outputs": [
        {
          "output_type": "stream",
          "name": "stdout",
          "text": [
            "請輸入學號: 110830017\n",
            "請輸入系及班級: 化工三甲\n",
            "請輸入姓名: 楊宜軒\n",
            "請輸入您的問題：烏龜\n",
            "這是我們簡化後的問題：\n",
            "\n",
            "烏龜的哪些方面需要具體說明或澄清？\n",
            "\n",
            "這符合您的原意嗎？\n",
            "請回答[是]或[否]：否\n",
            "請重述您的問題以讓我們更了解:學校有幾隻烏龜\n",
            "這是我們簡化後的問題：\n",
            "\n",
            "學校有幾隻烏龜？\n",
            "\n",
            "這符合您的原意嗎？\n",
            "請回答[是]或[否]：對\n",
            "無效答案。請以 '是' 或 '否' 回覆\n",
            "請回答[是]或[否]：是\n",
            "問題已確認。\n",
            "請問以下資訊是否正確? 系及班級: 化工三甲, 學號: 110830017, 姓名: 楊宜軒， 問題:學校有幾隻烏龜？\n",
            "請回答[是]或[否]：對\n",
            "無效答案。請以 '是' 或 '否' 回覆\n",
            "請問以下資訊是否正確? 系及班級: 化工三甲, 學號: 110830017, 姓名: 楊宜軒， 問題:學校有幾隻烏龜？\n",
            "請回答[是]或[否]：是\n",
            "已成功保存並準備處理您的問題\n",
            "資料已保存至 student_info.xlsx\n"
          ]
        },
        {
          "output_type": "display_data",
          "data": {
            "text/plain": [
              "<IPython.core.display.Javascript object>"
            ],
            "application/javascript": [
              "\n",
              "    async function download(id, filename, size) {\n",
              "      if (!google.colab.kernel.accessAllowed) {\n",
              "        return;\n",
              "      }\n",
              "      const div = document.createElement('div');\n",
              "      const label = document.createElement('label');\n",
              "      label.textContent = `Downloading \"${filename}\": `;\n",
              "      div.appendChild(label);\n",
              "      const progress = document.createElement('progress');\n",
              "      progress.max = size;\n",
              "      div.appendChild(progress);\n",
              "      document.body.appendChild(div);\n",
              "\n",
              "      const buffers = [];\n",
              "      let downloaded = 0;\n",
              "\n",
              "      const channel = await google.colab.kernel.comms.open(id);\n",
              "      // Send a message to notify the kernel that we're ready.\n",
              "      channel.send({})\n",
              "\n",
              "      for await (const message of channel.messages) {\n",
              "        // Send a message to notify the kernel that we're ready.\n",
              "        channel.send({})\n",
              "        if (message.buffers) {\n",
              "          for (const buffer of message.buffers) {\n",
              "            buffers.push(buffer);\n",
              "            downloaded += buffer.byteLength;\n",
              "            progress.value = downloaded;\n",
              "          }\n",
              "        }\n",
              "      }\n",
              "      const blob = new Blob(buffers, {type: 'application/binary'});\n",
              "      const a = document.createElement('a');\n",
              "      a.href = window.URL.createObjectURL(blob);\n",
              "      a.download = filename;\n",
              "      div.appendChild(a);\n",
              "      a.click();\n",
              "      div.remove();\n",
              "    }\n",
              "  "
            ]
          },
          "metadata": {}
        },
        {
          "output_type": "display_data",
          "data": {
            "text/plain": [
              "<IPython.core.display.Javascript object>"
            ],
            "application/javascript": [
              "download(\"download_0d53ccae-3c59-4b76-88d9-269c2e58c6da\", \"student_info.xlsx\", 5054)"
            ]
          },
          "metadata": {}
        },
        {
          "output_type": "stream",
          "name": "stdout",
          "text": [
            "資料已保存至 student_info.xlsx，檔案以下載\n"
          ]
        }
      ]
    },
    {
      "cell_type": "code",
      "source": [],
      "metadata": {
        "id": "cL7EG1wcvWC4"
      },
      "execution_count": null,
      "outputs": []
    }
  ]
}